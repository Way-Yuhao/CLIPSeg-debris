{
 "cells": [
  {
   "cell_type": "code",
   "id": "initial_id",
   "metadata": {
    "collapsed": true,
    "ExecuteTime": {
     "end_time": "2025-08-05T00:26:19.278904Z",
     "start_time": "2025-08-05T00:26:19.269217Z"
    }
   },
   "source": [
    "import os\n",
    "import sys\n",
    "import torch\n",
    "import torch.nn as nn\n",
    "import safetensors\n",
    "import functools\n",
    "from safetensors.torch import save_file, save_model\n",
    "from hydra import compose, initialize\n",
    "import hydra\n",
    "from hydra.utils import instantiate\n",
    "from omegaconf import DictConfig, OmegaConf\n",
    "\n",
    "module_path = os.path.abspath(os.path.join('..'))\n",
    "if module_path not in sys.path:\n",
    "    sys.path.append(module_path)\n",
    "\n",
    "from src.eval import *"
   ],
   "outputs": [],
   "execution_count": 43
  },
  {
   "metadata": {},
   "cell_type": "markdown",
   "source": "## Convert to safetensors\n",
   "id": "d5d128e4d20e4e56"
  },
  {
   "metadata": {},
   "cell_type": "code",
   "outputs": [],
   "execution_count": null,
   "source": "# experiment=retest trainer.devices=[4] logger.wandb.offline=true name=CLIPSeg-retest ckpt_path=/home/yl241/models/Multi-Annotators/clipseg_debris_weight.ckpt",
   "id": "6ed00279a612090b"
  },
  {
   "metadata": {
    "ExecuteTime": {
     "end_time": "2025-08-05T00:25:41.826876Z",
     "start_time": "2025-08-05T00:25:41.818501Z"
    }
   },
   "cell_type": "code",
   "source": [
    "@hydra.main(version_base=\"1.3\", config_path=\"../configs\", config_name=\"eval.yaml\")\n",
    "def main(cfg: DictConfig) -> None:\n",
    "    \"\"\"Main entry point for evaluation.\n",
    "\n",
    "    :param cfg: DictConfig configuration composed by Hydra.\n",
    "    \"\"\"\n",
    "    # apply extra utilities\n",
    "    # (e.g. ask for tags if none are provided in cfg, print cfg tree, etc.)\n",
    "    extras(cfg)\n",
    "    evaluate(cfg)"
   ],
   "id": "2c1b58941e8d9934",
   "outputs": [],
   "execution_count": 40
  },
  {
   "metadata": {
    "ExecuteTime": {
     "end_time": "2025-08-05T00:26:23.887673Z",
     "start_time": "2025-08-05T00:26:21.163058Z"
    }
   },
   "cell_type": "code",
   "source": [
    "    if cfg.get(\"seed\"):\n",
    "        L.seed_everything(cfg.seed, workers=True)\n",
    "    if not cfg.ckpt_path:\n",
    "        log.warning(\"No checkpoint path provided!\")\n",
    "\n",
    "    log.info(f\"Instantiating datamodule <{cfg.data._target_}>\")\n",
    "    datamodule: LightningDataModule = hydra.utils.instantiate(cfg.data)\n",
    "\n",
    "    log.info(f\"Instantiating model <{cfg.model._target_}>\")\n",
    "    model: LightningModule = hydra.utils.instantiate(cfg.model)\n",
    "\n",
    "    log.info(\"Instantiating callbacks...\")\n",
    "    callbacks: List[Callback] = instantiate_callbacks(cfg.get(\"callbacks\"))\n",
    "\n",
    "    log.info(\"Instantiating loggers...\")\n",
    "    logger: List[Logger] = instantiate_loggers(cfg.get(\"logger\"))\n",
    "\n",
    "    log.info(f\"Instantiating trainer <{cfg.trainer._target_}>\")\n",
    "    trainer: Trainer = hydra.utils.instantiate(cfg.trainer, logger=logger, callbacks=callbacks)\n",
    "\n",
    "    object_dict = {\n",
    "        \"cfg\": cfg,\n",
    "        \"datamodule\": datamodule,\n",
    "        \"model\": model,\n",
    "        \"logger\": logger,\n",
    "        \"trainer\": trainer,\n",
    "    }\n",
    "\n",
    "    if logger:\n",
    "        log.info(\"Logging hyperparameters!\")\n",
    "        log_hyperparameters(object_dict)\n",
    "\n",
    "    if cfg.get(\"test\"):\n",
    "        log.info(\"Starting testing!\")\n",
    "        trainer.test(model=model, datamodule=datamodule, ckpt_path=cfg.ckpt_path)\n",
    "    if cfg.get(\"predict\"):\n",
    "        log.info(\"Starting predictions!\")\n",
    "        # for predictions use trainer.predict(...)\n",
    "        predictions = trainer.predict(model=model, datamodule=datamodule, ckpt_path=cfg.ckpt_path)\n"
   ],
   "id": "89d56fa506ff2ada",
   "outputs": [
    {
     "name": "stderr",
     "output_type": "stream",
     "text": [
      "Seed set to 42\n",
      "GPU available: True (cuda), used: True\n",
      "TPU available: False, using: 0 TPU cores\n",
      "HPU available: False, using: 0 HPUs\n"
     ]
    },
    {
     "ename": "InterpolationResolutionError",
     "evalue": "ValueError raised while resolving interpolation: HydraConfig was not set\n    full_key: paths.work_dir\n    object_type=dict",
     "output_type": "error",
     "traceback": [
      "\u001B[0;31m---------------------------------------------------------------------------\u001B[0m",
      "\u001B[0;31mInterpolationResolutionError\u001B[0m              Traceback (most recent call last)",
      "Cell \u001B[0;32mIn[44], line 31\u001B[0m\n\u001B[1;32m     29\u001B[0m \u001B[38;5;28;01mif\u001B[39;00m logger:\n\u001B[1;32m     30\u001B[0m     log\u001B[38;5;241m.\u001B[39minfo(\u001B[38;5;124m\"\u001B[39m\u001B[38;5;124mLogging hyperparameters!\u001B[39m\u001B[38;5;124m\"\u001B[39m)\n\u001B[0;32m---> 31\u001B[0m     \u001B[43mlog_hyperparameters\u001B[49m\u001B[43m(\u001B[49m\u001B[43mobject_dict\u001B[49m\u001B[43m)\u001B[49m\n\u001B[1;32m     33\u001B[0m \u001B[38;5;28;01mif\u001B[39;00m cfg\u001B[38;5;241m.\u001B[39mget(\u001B[38;5;124m\"\u001B[39m\u001B[38;5;124mtest\u001B[39m\u001B[38;5;124m\"\u001B[39m):\n\u001B[1;32m     34\u001B[0m     log\u001B[38;5;241m.\u001B[39minfo(\u001B[38;5;124m\"\u001B[39m\u001B[38;5;124mStarting testing!\u001B[39m\u001B[38;5;124m\"\u001B[39m)\n",
      "File \u001B[0;32m~/etc/miniconda3/envs/samgeo/lib/python3.10/site-packages/lightning_utilities/core/rank_zero.py:42\u001B[0m, in \u001B[0;36mrank_zero_only.<locals>.wrapped_fn\u001B[0;34m(*args, **kwargs)\u001B[0m\n\u001B[1;32m     40\u001B[0m     \u001B[38;5;28;01mraise\u001B[39;00m \u001B[38;5;167;01mRuntimeError\u001B[39;00m(\u001B[38;5;124m\"\u001B[39m\u001B[38;5;124mThe `rank_zero_only.rank` needs to be set before use\u001B[39m\u001B[38;5;124m\"\u001B[39m)\n\u001B[1;32m     41\u001B[0m \u001B[38;5;28;01mif\u001B[39;00m rank \u001B[38;5;241m==\u001B[39m \u001B[38;5;241m0\u001B[39m:\n\u001B[0;32m---> 42\u001B[0m     \u001B[38;5;28;01mreturn\u001B[39;00m \u001B[43mfn\u001B[49m\u001B[43m(\u001B[49m\u001B[38;5;241;43m*\u001B[39;49m\u001B[43margs\u001B[49m\u001B[43m,\u001B[49m\u001B[43m \u001B[49m\u001B[38;5;241;43m*\u001B[39;49m\u001B[38;5;241;43m*\u001B[39;49m\u001B[43mkwargs\u001B[49m\u001B[43m)\u001B[49m\n\u001B[1;32m     43\u001B[0m \u001B[38;5;28;01mreturn\u001B[39;00m default\n",
      "File \u001B[0;32m~/workspace/Multi-Annotator/src/utils/logging_utils.py:58\u001B[0m, in \u001B[0;36mlog_hyperparameters\u001B[0;34m(object_dict)\u001B[0m\n\u001B[1;32m     56\u001B[0m cfg \u001B[38;5;241m=\u001B[39m object_dict[\u001B[38;5;124m\"\u001B[39m\u001B[38;5;124mcfg\u001B[39m\u001B[38;5;124m\"\u001B[39m]\n\u001B[1;32m     57\u001B[0m \u001B[38;5;28;01mif\u001B[39;00m OmegaConf\u001B[38;5;241m.\u001B[39mis_config(cfg):     \u001B[38;5;66;03m# Resolve the config\u001B[39;00m\n\u001B[0;32m---> 58\u001B[0m     cfg_resolved \u001B[38;5;241m=\u001B[39m \u001B[43mOmegaConf\u001B[49m\u001B[38;5;241;43m.\u001B[39;49m\u001B[43mto_container\u001B[49m\u001B[43m(\u001B[49m\u001B[43mcfg\u001B[49m\u001B[43m,\u001B[49m\u001B[43m \u001B[49m\u001B[43mresolve\u001B[49m\u001B[38;5;241;43m=\u001B[39;49m\u001B[38;5;28;43;01mTrue\u001B[39;49;00m\u001B[43m)\u001B[49m\n\u001B[1;32m     59\u001B[0m \u001B[38;5;28;01melse\u001B[39;00m: \u001B[38;5;66;03m# Handle the case where cfg is already a dictionary\u001B[39;00m\n\u001B[1;32m     60\u001B[0m     cfg_resolved \u001B[38;5;241m=\u001B[39m cfg\n",
      "File \u001B[0;32m~/etc/miniconda3/envs/samgeo/lib/python3.10/site-packages/omegaconf/omegaconf.py:573\u001B[0m, in \u001B[0;36mOmegaConf.to_container\u001B[0;34m(cfg, resolve, throw_on_missing, enum_to_str, structured_config_mode)\u001B[0m\n\u001B[1;32m    568\u001B[0m \u001B[38;5;28;01mif\u001B[39;00m \u001B[38;5;129;01mnot\u001B[39;00m OmegaConf\u001B[38;5;241m.\u001B[39mis_config(cfg):\n\u001B[1;32m    569\u001B[0m     \u001B[38;5;28;01mraise\u001B[39;00m \u001B[38;5;167;01mValueError\u001B[39;00m(\n\u001B[1;32m    570\u001B[0m         \u001B[38;5;124mf\u001B[39m\u001B[38;5;124m\"\u001B[39m\u001B[38;5;124mInput cfg is not an OmegaConf config object (\u001B[39m\u001B[38;5;132;01m{\u001B[39;00mtype_str(\u001B[38;5;28mtype\u001B[39m(cfg))\u001B[38;5;132;01m}\u001B[39;00m\u001B[38;5;124m)\u001B[39m\u001B[38;5;124m\"\u001B[39m\n\u001B[1;32m    571\u001B[0m     )\n\u001B[0;32m--> 573\u001B[0m \u001B[38;5;28;01mreturn\u001B[39;00m \u001B[43mBaseContainer\u001B[49m\u001B[38;5;241;43m.\u001B[39;49m\u001B[43m_to_content\u001B[49m\u001B[43m(\u001B[49m\n\u001B[1;32m    574\u001B[0m \u001B[43m    \u001B[49m\u001B[43mcfg\u001B[49m\u001B[43m,\u001B[49m\n\u001B[1;32m    575\u001B[0m \u001B[43m    \u001B[49m\u001B[43mresolve\u001B[49m\u001B[38;5;241;43m=\u001B[39;49m\u001B[43mresolve\u001B[49m\u001B[43m,\u001B[49m\n\u001B[1;32m    576\u001B[0m \u001B[43m    \u001B[49m\u001B[43mthrow_on_missing\u001B[49m\u001B[38;5;241;43m=\u001B[39;49m\u001B[43mthrow_on_missing\u001B[49m\u001B[43m,\u001B[49m\n\u001B[1;32m    577\u001B[0m \u001B[43m    \u001B[49m\u001B[43menum_to_str\u001B[49m\u001B[38;5;241;43m=\u001B[39;49m\u001B[43menum_to_str\u001B[49m\u001B[43m,\u001B[49m\n\u001B[1;32m    578\u001B[0m \u001B[43m    \u001B[49m\u001B[43mstructured_config_mode\u001B[49m\u001B[38;5;241;43m=\u001B[39;49m\u001B[43mstructured_config_mode\u001B[49m\u001B[43m,\u001B[49m\n\u001B[1;32m    579\u001B[0m \u001B[43m\u001B[49m\u001B[43m)\u001B[49m\n",
      "File \u001B[0;32m~/etc/miniconda3/envs/samgeo/lib/python3.10/site-packages/omegaconf/basecontainer.py:292\u001B[0m, in \u001B[0;36mBaseContainer._to_content\u001B[0;34m(conf, resolve, throw_on_missing, enum_to_str, structured_config_mode)\u001B[0m\n\u001B[1;32m    290\u001B[0m retdict: Dict[DictKeyType, Any] \u001B[38;5;241m=\u001B[39m {}\n\u001B[1;32m    291\u001B[0m \u001B[38;5;28;01mfor\u001B[39;00m key \u001B[38;5;129;01min\u001B[39;00m conf\u001B[38;5;241m.\u001B[39mkeys():\n\u001B[0;32m--> 292\u001B[0m     value \u001B[38;5;241m=\u001B[39m \u001B[43mget_node_value\u001B[49m\u001B[43m(\u001B[49m\u001B[43mkey\u001B[49m\u001B[43m)\u001B[49m\n\u001B[1;32m    293\u001B[0m     \u001B[38;5;28;01mif\u001B[39;00m enum_to_str \u001B[38;5;129;01mand\u001B[39;00m \u001B[38;5;28misinstance\u001B[39m(key, Enum):\n\u001B[1;32m    294\u001B[0m         key \u001B[38;5;241m=\u001B[39m \u001B[38;5;124mf\u001B[39m\u001B[38;5;124m\"\u001B[39m\u001B[38;5;132;01m{\u001B[39;00mkey\u001B[38;5;241m.\u001B[39mname\u001B[38;5;132;01m}\u001B[39;00m\u001B[38;5;124m\"\u001B[39m\n",
      "File \u001B[0;32m~/etc/miniconda3/envs/samgeo/lib/python3.10/site-packages/omegaconf/basecontainer.py:247\u001B[0m, in \u001B[0;36mBaseContainer._to_content.<locals>.get_node_value\u001B[0;34m(key)\u001B[0m\n\u001B[1;32m    244\u001B[0m         conf\u001B[38;5;241m.\u001B[39m_format_and_raise(key\u001B[38;5;241m=\u001B[39mkey, value\u001B[38;5;241m=\u001B[39m\u001B[38;5;28;01mNone\u001B[39;00m, cause\u001B[38;5;241m=\u001B[39me)\n\u001B[1;32m    246\u001B[0m \u001B[38;5;28;01mif\u001B[39;00m \u001B[38;5;28misinstance\u001B[39m(node, Container):\n\u001B[0;32m--> 247\u001B[0m     value \u001B[38;5;241m=\u001B[39m \u001B[43mBaseContainer\u001B[49m\u001B[38;5;241;43m.\u001B[39;49m\u001B[43m_to_content\u001B[49m\u001B[43m(\u001B[49m\n\u001B[1;32m    248\u001B[0m \u001B[43m        \u001B[49m\u001B[43mnode\u001B[49m\u001B[43m,\u001B[49m\n\u001B[1;32m    249\u001B[0m \u001B[43m        \u001B[49m\u001B[43mresolve\u001B[49m\u001B[38;5;241;43m=\u001B[39;49m\u001B[43mresolve\u001B[49m\u001B[43m,\u001B[49m\n\u001B[1;32m    250\u001B[0m \u001B[43m        \u001B[49m\u001B[43mthrow_on_missing\u001B[49m\u001B[38;5;241;43m=\u001B[39;49m\u001B[43mthrow_on_missing\u001B[49m\u001B[43m,\u001B[49m\n\u001B[1;32m    251\u001B[0m \u001B[43m        \u001B[49m\u001B[43menum_to_str\u001B[49m\u001B[38;5;241;43m=\u001B[39;49m\u001B[43menum_to_str\u001B[49m\u001B[43m,\u001B[49m\n\u001B[1;32m    252\u001B[0m \u001B[43m        \u001B[49m\u001B[43mstructured_config_mode\u001B[49m\u001B[38;5;241;43m=\u001B[39;49m\u001B[43mstructured_config_mode\u001B[49m\u001B[43m,\u001B[49m\n\u001B[1;32m    253\u001B[0m \u001B[43m    \u001B[49m\u001B[43m)\u001B[49m\n\u001B[1;32m    254\u001B[0m \u001B[38;5;28;01melse\u001B[39;00m:\n\u001B[1;32m    255\u001B[0m     value \u001B[38;5;241m=\u001B[39m convert(node)\n",
      "File \u001B[0;32m~/etc/miniconda3/envs/samgeo/lib/python3.10/site-packages/omegaconf/basecontainer.py:292\u001B[0m, in \u001B[0;36mBaseContainer._to_content\u001B[0;34m(conf, resolve, throw_on_missing, enum_to_str, structured_config_mode)\u001B[0m\n\u001B[1;32m    290\u001B[0m retdict: Dict[DictKeyType, Any] \u001B[38;5;241m=\u001B[39m {}\n\u001B[1;32m    291\u001B[0m \u001B[38;5;28;01mfor\u001B[39;00m key \u001B[38;5;129;01min\u001B[39;00m conf\u001B[38;5;241m.\u001B[39mkeys():\n\u001B[0;32m--> 292\u001B[0m     value \u001B[38;5;241m=\u001B[39m \u001B[43mget_node_value\u001B[49m\u001B[43m(\u001B[49m\u001B[43mkey\u001B[49m\u001B[43m)\u001B[49m\n\u001B[1;32m    293\u001B[0m     \u001B[38;5;28;01mif\u001B[39;00m enum_to_str \u001B[38;5;129;01mand\u001B[39;00m \u001B[38;5;28misinstance\u001B[39m(key, Enum):\n\u001B[1;32m    294\u001B[0m         key \u001B[38;5;241m=\u001B[39m \u001B[38;5;124mf\u001B[39m\u001B[38;5;124m\"\u001B[39m\u001B[38;5;132;01m{\u001B[39;00mkey\u001B[38;5;241m.\u001B[39mname\u001B[38;5;132;01m}\u001B[39;00m\u001B[38;5;124m\"\u001B[39m\n",
      "File \u001B[0;32m~/etc/miniconda3/envs/samgeo/lib/python3.10/site-packages/omegaconf/basecontainer.py:244\u001B[0m, in \u001B[0;36mBaseContainer._to_content.<locals>.get_node_value\u001B[0;34m(key)\u001B[0m\n\u001B[1;32m    242\u001B[0m         node \u001B[38;5;241m=\u001B[39m node\u001B[38;5;241m.\u001B[39m_dereference_node()\n\u001B[1;32m    243\u001B[0m     \u001B[38;5;28;01mexcept\u001B[39;00m InterpolationResolutionError \u001B[38;5;28;01mas\u001B[39;00m e:\n\u001B[0;32m--> 244\u001B[0m         \u001B[43mconf\u001B[49m\u001B[38;5;241;43m.\u001B[39;49m\u001B[43m_format_and_raise\u001B[49m\u001B[43m(\u001B[49m\u001B[43mkey\u001B[49m\u001B[38;5;241;43m=\u001B[39;49m\u001B[43mkey\u001B[49m\u001B[43m,\u001B[49m\u001B[43m \u001B[49m\u001B[43mvalue\u001B[49m\u001B[38;5;241;43m=\u001B[39;49m\u001B[38;5;28;43;01mNone\u001B[39;49;00m\u001B[43m,\u001B[49m\u001B[43m \u001B[49m\u001B[43mcause\u001B[49m\u001B[38;5;241;43m=\u001B[39;49m\u001B[43me\u001B[49m\u001B[43m)\u001B[49m\n\u001B[1;32m    246\u001B[0m \u001B[38;5;28;01mif\u001B[39;00m \u001B[38;5;28misinstance\u001B[39m(node, Container):\n\u001B[1;32m    247\u001B[0m     value \u001B[38;5;241m=\u001B[39m BaseContainer\u001B[38;5;241m.\u001B[39m_to_content(\n\u001B[1;32m    248\u001B[0m         node,\n\u001B[1;32m    249\u001B[0m         resolve\u001B[38;5;241m=\u001B[39mresolve,\n\u001B[0;32m   (...)\u001B[0m\n\u001B[1;32m    252\u001B[0m         structured_config_mode\u001B[38;5;241m=\u001B[39mstructured_config_mode,\n\u001B[1;32m    253\u001B[0m     )\n",
      "File \u001B[0;32m~/etc/miniconda3/envs/samgeo/lib/python3.10/site-packages/omegaconf/base.py:231\u001B[0m, in \u001B[0;36mNode._format_and_raise\u001B[0;34m(self, key, value, cause, msg, type_override)\u001B[0m\n\u001B[1;32m    223\u001B[0m \u001B[38;5;28;01mdef\u001B[39;00m \u001B[38;5;21m_format_and_raise\u001B[39m(\n\u001B[1;32m    224\u001B[0m     \u001B[38;5;28mself\u001B[39m,\n\u001B[1;32m    225\u001B[0m     key: Any,\n\u001B[0;32m   (...)\u001B[0m\n\u001B[1;32m    229\u001B[0m     type_override: Any \u001B[38;5;241m=\u001B[39m \u001B[38;5;28;01mNone\u001B[39;00m,\n\u001B[1;32m    230\u001B[0m ) \u001B[38;5;241m-\u001B[39m\u001B[38;5;241m>\u001B[39m \u001B[38;5;28;01mNone\u001B[39;00m:\n\u001B[0;32m--> 231\u001B[0m     \u001B[43mformat_and_raise\u001B[49m\u001B[43m(\u001B[49m\n\u001B[1;32m    232\u001B[0m \u001B[43m        \u001B[49m\u001B[43mnode\u001B[49m\u001B[38;5;241;43m=\u001B[39;49m\u001B[38;5;28;43mself\u001B[39;49m\u001B[43m,\u001B[49m\n\u001B[1;32m    233\u001B[0m \u001B[43m        \u001B[49m\u001B[43mkey\u001B[49m\u001B[38;5;241;43m=\u001B[39;49m\u001B[43mkey\u001B[49m\u001B[43m,\u001B[49m\n\u001B[1;32m    234\u001B[0m \u001B[43m        \u001B[49m\u001B[43mvalue\u001B[49m\u001B[38;5;241;43m=\u001B[39;49m\u001B[43mvalue\u001B[49m\u001B[43m,\u001B[49m\n\u001B[1;32m    235\u001B[0m \u001B[43m        \u001B[49m\u001B[43mmsg\u001B[49m\u001B[38;5;241;43m=\u001B[39;49m\u001B[38;5;28;43mstr\u001B[39;49m\u001B[43m(\u001B[49m\u001B[43mcause\u001B[49m\u001B[43m)\u001B[49m\u001B[43m \u001B[49m\u001B[38;5;28;43;01mif\u001B[39;49;00m\u001B[43m \u001B[49m\u001B[43mmsg\u001B[49m\u001B[43m \u001B[49m\u001B[38;5;129;43;01mis\u001B[39;49;00m\u001B[43m \u001B[49m\u001B[38;5;28;43;01mNone\u001B[39;49;00m\u001B[43m \u001B[49m\u001B[38;5;28;43;01melse\u001B[39;49;00m\u001B[43m \u001B[49m\u001B[43mmsg\u001B[49m\u001B[43m,\u001B[49m\n\u001B[1;32m    236\u001B[0m \u001B[43m        \u001B[49m\u001B[43mcause\u001B[49m\u001B[38;5;241;43m=\u001B[39;49m\u001B[43mcause\u001B[49m\u001B[43m,\u001B[49m\n\u001B[1;32m    237\u001B[0m \u001B[43m        \u001B[49m\u001B[43mtype_override\u001B[49m\u001B[38;5;241;43m=\u001B[39;49m\u001B[43mtype_override\u001B[49m\u001B[43m,\u001B[49m\n\u001B[1;32m    238\u001B[0m \u001B[43m    \u001B[49m\u001B[43m)\u001B[49m\n\u001B[1;32m    239\u001B[0m     \u001B[38;5;28;01massert\u001B[39;00m \u001B[38;5;28;01mFalse\u001B[39;00m\n",
      "File \u001B[0;32m~/etc/miniconda3/envs/samgeo/lib/python3.10/site-packages/omegaconf/_utils.py:899\u001B[0m, in \u001B[0;36mformat_and_raise\u001B[0;34m(node, key, value, msg, cause, type_override)\u001B[0m\n\u001B[1;32m    896\u001B[0m     ex\u001B[38;5;241m.\u001B[39mref_type \u001B[38;5;241m=\u001B[39m ref_type\n\u001B[1;32m    897\u001B[0m     ex\u001B[38;5;241m.\u001B[39mref_type_str \u001B[38;5;241m=\u001B[39m ref_type_str\n\u001B[0;32m--> 899\u001B[0m \u001B[43m_raise\u001B[49m\u001B[43m(\u001B[49m\u001B[43mex\u001B[49m\u001B[43m,\u001B[49m\u001B[43m \u001B[49m\u001B[43mcause\u001B[49m\u001B[43m)\u001B[49m\n",
      "File \u001B[0;32m~/etc/miniconda3/envs/samgeo/lib/python3.10/site-packages/omegaconf/_utils.py:797\u001B[0m, in \u001B[0;36m_raise\u001B[0;34m(ex, cause)\u001B[0m\n\u001B[1;32m    795\u001B[0m \u001B[38;5;28;01melse\u001B[39;00m:\n\u001B[1;32m    796\u001B[0m     ex\u001B[38;5;241m.\u001B[39m__cause__ \u001B[38;5;241m=\u001B[39m \u001B[38;5;28;01mNone\u001B[39;00m\n\u001B[0;32m--> 797\u001B[0m \u001B[38;5;28;01mraise\u001B[39;00m ex\u001B[38;5;241m.\u001B[39mwith_traceback(sys\u001B[38;5;241m.\u001B[39mexc_info()[\u001B[38;5;241m2\u001B[39m])\n",
      "File \u001B[0;32m~/etc/miniconda3/envs/samgeo/lib/python3.10/site-packages/omegaconf/basecontainer.py:242\u001B[0m, in \u001B[0;36mBaseContainer._to_content.<locals>.get_node_value\u001B[0;34m(key)\u001B[0m\n\u001B[1;32m    240\u001B[0m \u001B[38;5;28;01mif\u001B[39;00m resolve:\n\u001B[1;32m    241\u001B[0m     \u001B[38;5;28;01mtry\u001B[39;00m:\n\u001B[0;32m--> 242\u001B[0m         node \u001B[38;5;241m=\u001B[39m \u001B[43mnode\u001B[49m\u001B[38;5;241;43m.\u001B[39;49m\u001B[43m_dereference_node\u001B[49m\u001B[43m(\u001B[49m\u001B[43m)\u001B[49m\n\u001B[1;32m    243\u001B[0m     \u001B[38;5;28;01mexcept\u001B[39;00m InterpolationResolutionError \u001B[38;5;28;01mas\u001B[39;00m e:\n\u001B[1;32m    244\u001B[0m         conf\u001B[38;5;241m.\u001B[39m_format_and_raise(key\u001B[38;5;241m=\u001B[39mkey, value\u001B[38;5;241m=\u001B[39m\u001B[38;5;28;01mNone\u001B[39;00m, cause\u001B[38;5;241m=\u001B[39me)\n",
      "File \u001B[0;32m~/etc/miniconda3/envs/samgeo/lib/python3.10/site-packages/omegaconf/base.py:246\u001B[0m, in \u001B[0;36mNode._dereference_node\u001B[0;34m(self)\u001B[0m\n\u001B[1;32m    245\u001B[0m \u001B[38;5;28;01mdef\u001B[39;00m \u001B[38;5;21m_dereference_node\u001B[39m(\u001B[38;5;28mself\u001B[39m) \u001B[38;5;241m-\u001B[39m\u001B[38;5;241m>\u001B[39m \u001B[38;5;124m\"\u001B[39m\u001B[38;5;124mNode\u001B[39m\u001B[38;5;124m\"\u001B[39m:\n\u001B[0;32m--> 246\u001B[0m     node \u001B[38;5;241m=\u001B[39m \u001B[38;5;28;43mself\u001B[39;49m\u001B[38;5;241;43m.\u001B[39;49m\u001B[43m_dereference_node_impl\u001B[49m\u001B[43m(\u001B[49m\u001B[43mthrow_on_resolution_failure\u001B[49m\u001B[38;5;241;43m=\u001B[39;49m\u001B[38;5;28;43;01mTrue\u001B[39;49;00m\u001B[43m)\u001B[49m\n\u001B[1;32m    247\u001B[0m     \u001B[38;5;28;01massert\u001B[39;00m node \u001B[38;5;129;01mis\u001B[39;00m \u001B[38;5;129;01mnot\u001B[39;00m \u001B[38;5;28;01mNone\u001B[39;00m\n\u001B[1;32m    248\u001B[0m     \u001B[38;5;28;01mreturn\u001B[39;00m node\n",
      "File \u001B[0;32m~/etc/miniconda3/envs/samgeo/lib/python3.10/site-packages/omegaconf/base.py:277\u001B[0m, in \u001B[0;36mNode._dereference_node_impl\u001B[0;34m(self, throw_on_resolution_failure, memo)\u001B[0m\n\u001B[1;32m    275\u001B[0m \u001B[38;5;28;01massert\u001B[39;00m parent \u001B[38;5;129;01mis\u001B[39;00m \u001B[38;5;129;01mnot\u001B[39;00m \u001B[38;5;28;01mNone\u001B[39;00m\n\u001B[1;32m    276\u001B[0m key \u001B[38;5;241m=\u001B[39m \u001B[38;5;28mself\u001B[39m\u001B[38;5;241m.\u001B[39m_key()\n\u001B[0;32m--> 277\u001B[0m \u001B[38;5;28;01mreturn\u001B[39;00m \u001B[43mparent\u001B[49m\u001B[38;5;241;43m.\u001B[39;49m\u001B[43m_resolve_interpolation_from_parse_tree\u001B[49m\u001B[43m(\u001B[49m\n\u001B[1;32m    278\u001B[0m \u001B[43m    \u001B[49m\u001B[43mparent\u001B[49m\u001B[38;5;241;43m=\u001B[39;49m\u001B[43mparent\u001B[49m\u001B[43m,\u001B[49m\n\u001B[1;32m    279\u001B[0m \u001B[43m    \u001B[49m\u001B[43mkey\u001B[49m\u001B[38;5;241;43m=\u001B[39;49m\u001B[43mkey\u001B[49m\u001B[43m,\u001B[49m\n\u001B[1;32m    280\u001B[0m \u001B[43m    \u001B[49m\u001B[43mvalue\u001B[49m\u001B[38;5;241;43m=\u001B[39;49m\u001B[38;5;28;43mself\u001B[39;49m\u001B[43m,\u001B[49m\n\u001B[1;32m    281\u001B[0m \u001B[43m    \u001B[49m\u001B[43mparse_tree\u001B[49m\u001B[38;5;241;43m=\u001B[39;49m\u001B[43mparse\u001B[49m\u001B[43m(\u001B[49m\u001B[43m_get_value\u001B[49m\u001B[43m(\u001B[49m\u001B[38;5;28;43mself\u001B[39;49m\u001B[43m)\u001B[49m\u001B[43m)\u001B[49m\u001B[43m,\u001B[49m\n\u001B[1;32m    282\u001B[0m \u001B[43m    \u001B[49m\u001B[43mthrow_on_resolution_failure\u001B[49m\u001B[38;5;241;43m=\u001B[39;49m\u001B[43mthrow_on_resolution_failure\u001B[49m\u001B[43m,\u001B[49m\n\u001B[1;32m    283\u001B[0m \u001B[43m    \u001B[49m\u001B[43mmemo\u001B[49m\u001B[38;5;241;43m=\u001B[39;49m\u001B[43mmemo\u001B[49m\u001B[43m,\u001B[49m\n\u001B[1;32m    284\u001B[0m \u001B[43m\u001B[49m\u001B[43m)\u001B[49m\n",
      "File \u001B[0;32m~/etc/miniconda3/envs/samgeo/lib/python3.10/site-packages/omegaconf/base.py:584\u001B[0m, in \u001B[0;36mContainer._resolve_interpolation_from_parse_tree\u001B[0;34m(self, parent, value, key, parse_tree, throw_on_resolution_failure, memo)\u001B[0m\n\u001B[1;32m    554\u001B[0m \u001B[38;5;250m\u001B[39m\u001B[38;5;124;03m\"\"\"\u001B[39;00m\n\u001B[1;32m    555\u001B[0m \u001B[38;5;124;03mResolve an interpolation.\u001B[39;00m\n\u001B[1;32m    556\u001B[0m \n\u001B[0;32m   (...)\u001B[0m\n\u001B[1;32m    580\u001B[0m \u001B[38;5;124;03m    `throw_on_resolution_failure` is `False` and an error occurs during resolution.\u001B[39;00m\n\u001B[1;32m    581\u001B[0m \u001B[38;5;124;03m\"\"\"\u001B[39;00m\n\u001B[1;32m    583\u001B[0m \u001B[38;5;28;01mtry\u001B[39;00m:\n\u001B[0;32m--> 584\u001B[0m     resolved \u001B[38;5;241m=\u001B[39m \u001B[38;5;28;43mself\u001B[39;49m\u001B[38;5;241;43m.\u001B[39;49m\u001B[43mresolve_parse_tree\u001B[49m\u001B[43m(\u001B[49m\n\u001B[1;32m    585\u001B[0m \u001B[43m        \u001B[49m\u001B[43mparse_tree\u001B[49m\u001B[38;5;241;43m=\u001B[39;49m\u001B[43mparse_tree\u001B[49m\u001B[43m,\u001B[49m\u001B[43m \u001B[49m\u001B[43mnode\u001B[49m\u001B[38;5;241;43m=\u001B[39;49m\u001B[43mvalue\u001B[49m\u001B[43m,\u001B[49m\u001B[43m \u001B[49m\u001B[43mkey\u001B[49m\u001B[38;5;241;43m=\u001B[39;49m\u001B[43mkey\u001B[49m\u001B[43m,\u001B[49m\u001B[43m \u001B[49m\u001B[43mmemo\u001B[49m\u001B[38;5;241;43m=\u001B[39;49m\u001B[43mmemo\u001B[49m\n\u001B[1;32m    586\u001B[0m \u001B[43m    \u001B[49m\u001B[43m)\u001B[49m\n\u001B[1;32m    587\u001B[0m \u001B[38;5;28;01mexcept\u001B[39;00m InterpolationResolutionError:\n\u001B[1;32m    588\u001B[0m     \u001B[38;5;28;01mif\u001B[39;00m throw_on_resolution_failure:\n",
      "File \u001B[0;32m~/etc/miniconda3/envs/samgeo/lib/python3.10/site-packages/omegaconf/base.py:769\u001B[0m, in \u001B[0;36mContainer.resolve_parse_tree\u001B[0;34m(self, parse_tree, node, memo, key)\u001B[0m\n\u001B[1;32m    766\u001B[0m     \u001B[38;5;28;01mraise\u001B[39;00m\n\u001B[1;32m    767\u001B[0m \u001B[38;5;28;01mexcept\u001B[39;00m \u001B[38;5;167;01mException\u001B[39;00m \u001B[38;5;28;01mas\u001B[39;00m exc:\n\u001B[1;32m    768\u001B[0m     \u001B[38;5;66;03m# Other kinds of exceptions are wrapped in an `InterpolationResolutionError`.\u001B[39;00m\n\u001B[0;32m--> 769\u001B[0m     \u001B[38;5;28;01mraise\u001B[39;00m InterpolationResolutionError(\n\u001B[1;32m    770\u001B[0m         \u001B[38;5;124mf\u001B[39m\u001B[38;5;124m\"\u001B[39m\u001B[38;5;132;01m{\u001B[39;00m\u001B[38;5;28mtype\u001B[39m(exc)\u001B[38;5;241m.\u001B[39m\u001B[38;5;18m__name__\u001B[39m\u001B[38;5;132;01m}\u001B[39;00m\u001B[38;5;124m raised while resolving interpolation: \u001B[39m\u001B[38;5;132;01m{\u001B[39;00mexc\u001B[38;5;132;01m}\u001B[39;00m\u001B[38;5;124m\"\u001B[39m\n\u001B[1;32m    771\u001B[0m     )\u001B[38;5;241m.\u001B[39mwith_traceback(sys\u001B[38;5;241m.\u001B[39mexc_info()[\u001B[38;5;241m2\u001B[39m])\n",
      "File \u001B[0;32m~/etc/miniconda3/envs/samgeo/lib/python3.10/site-packages/omegaconf/base.py:764\u001B[0m, in \u001B[0;36mContainer.resolve_parse_tree\u001B[0;34m(self, parse_tree, node, memo, key)\u001B[0m\n\u001B[1;32m    758\u001B[0m visitor \u001B[38;5;241m=\u001B[39m GrammarVisitor(\n\u001B[1;32m    759\u001B[0m     node_interpolation_callback\u001B[38;5;241m=\u001B[39mnode_interpolation_callback,\n\u001B[1;32m    760\u001B[0m     resolver_interpolation_callback\u001B[38;5;241m=\u001B[39mresolver_interpolation_callback,\n\u001B[1;32m    761\u001B[0m     memo\u001B[38;5;241m=\u001B[39mmemo,\n\u001B[1;32m    762\u001B[0m )\n\u001B[1;32m    763\u001B[0m \u001B[38;5;28;01mtry\u001B[39;00m:\n\u001B[0;32m--> 764\u001B[0m     \u001B[38;5;28;01mreturn\u001B[39;00m \u001B[43mvisitor\u001B[49m\u001B[38;5;241;43m.\u001B[39;49m\u001B[43mvisit\u001B[49m\u001B[43m(\u001B[49m\u001B[43mparse_tree\u001B[49m\u001B[43m)\u001B[49m\n\u001B[1;32m    765\u001B[0m \u001B[38;5;28;01mexcept\u001B[39;00m InterpolationResolutionError:\n\u001B[1;32m    766\u001B[0m     \u001B[38;5;28;01mraise\u001B[39;00m\n",
      "File \u001B[0;32m~/etc/miniconda3/envs/samgeo/lib/python3.10/site-packages/antlr4/tree/Tree.py:34\u001B[0m, in \u001B[0;36mParseTreeVisitor.visit\u001B[0;34m(self, tree)\u001B[0m\n\u001B[1;32m     33\u001B[0m \u001B[38;5;28;01mdef\u001B[39;00m \u001B[38;5;21mvisit\u001B[39m(\u001B[38;5;28mself\u001B[39m, tree):\n\u001B[0;32m---> 34\u001B[0m     \u001B[38;5;28;01mreturn\u001B[39;00m \u001B[43mtree\u001B[49m\u001B[38;5;241;43m.\u001B[39;49m\u001B[43maccept\u001B[49m\u001B[43m(\u001B[49m\u001B[38;5;28;43mself\u001B[39;49m\u001B[43m)\u001B[49m\n",
      "File \u001B[0;32m~/etc/miniconda3/envs/samgeo/lib/python3.10/site-packages/omegaconf/grammar/gen/OmegaConfGrammarParser.py:206\u001B[0m, in \u001B[0;36mOmegaConfGrammarParser.ConfigValueContext.accept\u001B[0;34m(self, visitor)\u001B[0m\n\u001B[1;32m    204\u001B[0m \u001B[38;5;28;01mdef\u001B[39;00m \u001B[38;5;21maccept\u001B[39m(\u001B[38;5;28mself\u001B[39m, visitor:ParseTreeVisitor):\n\u001B[1;32m    205\u001B[0m     \u001B[38;5;28;01mif\u001B[39;00m \u001B[38;5;28mhasattr\u001B[39m( visitor, \u001B[38;5;124m\"\u001B[39m\u001B[38;5;124mvisitConfigValue\u001B[39m\u001B[38;5;124m\"\u001B[39m ):\n\u001B[0;32m--> 206\u001B[0m         \u001B[38;5;28;01mreturn\u001B[39;00m \u001B[43mvisitor\u001B[49m\u001B[38;5;241;43m.\u001B[39;49m\u001B[43mvisitConfigValue\u001B[49m\u001B[43m(\u001B[49m\u001B[38;5;28;43mself\u001B[39;49m\u001B[43m)\u001B[49m\n\u001B[1;32m    207\u001B[0m     \u001B[38;5;28;01melse\u001B[39;00m:\n\u001B[1;32m    208\u001B[0m         \u001B[38;5;28;01mreturn\u001B[39;00m visitor\u001B[38;5;241m.\u001B[39mvisitChildren(\u001B[38;5;28mself\u001B[39m)\n",
      "File \u001B[0;32m~/etc/miniconda3/envs/samgeo/lib/python3.10/site-packages/omegaconf/grammar_visitor.py:101\u001B[0m, in \u001B[0;36mGrammarVisitor.visitConfigValue\u001B[0;34m(self, ctx)\u001B[0m\n\u001B[1;32m     98\u001B[0m \u001B[38;5;28;01mdef\u001B[39;00m \u001B[38;5;21mvisitConfigValue\u001B[39m(\u001B[38;5;28mself\u001B[39m, ctx: OmegaConfGrammarParser\u001B[38;5;241m.\u001B[39mConfigValueContext) \u001B[38;5;241m-\u001B[39m\u001B[38;5;241m>\u001B[39m Any:\n\u001B[1;32m     99\u001B[0m     \u001B[38;5;66;03m# text EOF\u001B[39;00m\n\u001B[1;32m    100\u001B[0m     \u001B[38;5;28;01massert\u001B[39;00m ctx\u001B[38;5;241m.\u001B[39mgetChildCount() \u001B[38;5;241m==\u001B[39m \u001B[38;5;241m2\u001B[39m\n\u001B[0;32m--> 101\u001B[0m     \u001B[38;5;28;01mreturn\u001B[39;00m \u001B[38;5;28;43mself\u001B[39;49m\u001B[38;5;241;43m.\u001B[39;49m\u001B[43mvisit\u001B[49m\u001B[43m(\u001B[49m\u001B[43mctx\u001B[49m\u001B[38;5;241;43m.\u001B[39;49m\u001B[43mgetChild\u001B[49m\u001B[43m(\u001B[49m\u001B[38;5;241;43m0\u001B[39;49m\u001B[43m)\u001B[49m\u001B[43m)\u001B[49m\n",
      "File \u001B[0;32m~/etc/miniconda3/envs/samgeo/lib/python3.10/site-packages/antlr4/tree/Tree.py:34\u001B[0m, in \u001B[0;36mParseTreeVisitor.visit\u001B[0;34m(self, tree)\u001B[0m\n\u001B[1;32m     33\u001B[0m \u001B[38;5;28;01mdef\u001B[39;00m \u001B[38;5;21mvisit\u001B[39m(\u001B[38;5;28mself\u001B[39m, tree):\n\u001B[0;32m---> 34\u001B[0m     \u001B[38;5;28;01mreturn\u001B[39;00m \u001B[43mtree\u001B[49m\u001B[38;5;241;43m.\u001B[39;49m\u001B[43maccept\u001B[49m\u001B[43m(\u001B[49m\u001B[38;5;28;43mself\u001B[39;49m\u001B[43m)\u001B[49m\n",
      "File \u001B[0;32m~/etc/miniconda3/envs/samgeo/lib/python3.10/site-packages/omegaconf/grammar/gen/OmegaConfGrammarParser.py:342\u001B[0m, in \u001B[0;36mOmegaConfGrammarParser.TextContext.accept\u001B[0;34m(self, visitor)\u001B[0m\n\u001B[1;32m    340\u001B[0m \u001B[38;5;28;01mdef\u001B[39;00m \u001B[38;5;21maccept\u001B[39m(\u001B[38;5;28mself\u001B[39m, visitor:ParseTreeVisitor):\n\u001B[1;32m    341\u001B[0m     \u001B[38;5;28;01mif\u001B[39;00m \u001B[38;5;28mhasattr\u001B[39m( visitor, \u001B[38;5;124m\"\u001B[39m\u001B[38;5;124mvisitText\u001B[39m\u001B[38;5;124m\"\u001B[39m ):\n\u001B[0;32m--> 342\u001B[0m         \u001B[38;5;28;01mreturn\u001B[39;00m \u001B[43mvisitor\u001B[49m\u001B[38;5;241;43m.\u001B[39;49m\u001B[43mvisitText\u001B[49m\u001B[43m(\u001B[49m\u001B[38;5;28;43mself\u001B[39;49m\u001B[43m)\u001B[49m\n\u001B[1;32m    343\u001B[0m     \u001B[38;5;28;01melse\u001B[39;00m:\n\u001B[1;32m    344\u001B[0m         \u001B[38;5;28;01mreturn\u001B[39;00m visitor\u001B[38;5;241m.\u001B[39mvisitChildren(\u001B[38;5;28mself\u001B[39m)\n",
      "File \u001B[0;32m~/etc/miniconda3/envs/samgeo/lib/python3.10/site-packages/omegaconf/grammar_visitor.py:298\u001B[0m, in \u001B[0;36mGrammarVisitor.visitText\u001B[0;34m(self, ctx)\u001B[0m\n\u001B[1;32m    296\u001B[0m     c \u001B[38;5;241m=\u001B[39m ctx\u001B[38;5;241m.\u001B[39mgetChild(\u001B[38;5;241m0\u001B[39m)\n\u001B[1;32m    297\u001B[0m     \u001B[38;5;28;01mif\u001B[39;00m \u001B[38;5;28misinstance\u001B[39m(c, OmegaConfGrammarParser\u001B[38;5;241m.\u001B[39mInterpolationContext):\n\u001B[0;32m--> 298\u001B[0m         \u001B[38;5;28;01mreturn\u001B[39;00m \u001B[38;5;28;43mself\u001B[39;49m\u001B[38;5;241;43m.\u001B[39;49m\u001B[43mvisitInterpolation\u001B[49m\u001B[43m(\u001B[49m\u001B[43mc\u001B[49m\u001B[43m)\u001B[49m\n\u001B[1;32m    300\u001B[0m \u001B[38;5;66;03m# Otherwise, concatenate string representations together.\u001B[39;00m\n\u001B[1;32m    301\u001B[0m \u001B[38;5;28;01mreturn\u001B[39;00m \u001B[38;5;28mself\u001B[39m\u001B[38;5;241m.\u001B[39m_unescape(\u001B[38;5;28mlist\u001B[39m(ctx\u001B[38;5;241m.\u001B[39mgetChildren()))\n",
      "File \u001B[0;32m~/etc/miniconda3/envs/samgeo/lib/python3.10/site-packages/omegaconf/grammar_visitor.py:125\u001B[0m, in \u001B[0;36mGrammarVisitor.visitInterpolation\u001B[0;34m(self, ctx)\u001B[0m\n\u001B[1;32m    121\u001B[0m \u001B[38;5;28;01mdef\u001B[39;00m \u001B[38;5;21mvisitInterpolation\u001B[39m(\n\u001B[1;32m    122\u001B[0m     \u001B[38;5;28mself\u001B[39m, ctx: OmegaConfGrammarParser\u001B[38;5;241m.\u001B[39mInterpolationContext\n\u001B[1;32m    123\u001B[0m ) \u001B[38;5;241m-\u001B[39m\u001B[38;5;241m>\u001B[39m Any:\n\u001B[1;32m    124\u001B[0m     \u001B[38;5;28;01massert\u001B[39;00m ctx\u001B[38;5;241m.\u001B[39mgetChildCount() \u001B[38;5;241m==\u001B[39m \u001B[38;5;241m1\u001B[39m  \u001B[38;5;66;03m# interpolationNode | interpolationResolver\u001B[39;00m\n\u001B[0;32m--> 125\u001B[0m     \u001B[38;5;28;01mreturn\u001B[39;00m \u001B[38;5;28;43mself\u001B[39;49m\u001B[38;5;241;43m.\u001B[39;49m\u001B[43mvisit\u001B[49m\u001B[43m(\u001B[49m\u001B[43mctx\u001B[49m\u001B[38;5;241;43m.\u001B[39;49m\u001B[43mgetChild\u001B[49m\u001B[43m(\u001B[49m\u001B[38;5;241;43m0\u001B[39;49m\u001B[43m)\u001B[49m\u001B[43m)\u001B[49m\n",
      "File \u001B[0;32m~/etc/miniconda3/envs/samgeo/lib/python3.10/site-packages/antlr4/tree/Tree.py:34\u001B[0m, in \u001B[0;36mParseTreeVisitor.visit\u001B[0;34m(self, tree)\u001B[0m\n\u001B[1;32m     33\u001B[0m \u001B[38;5;28;01mdef\u001B[39;00m \u001B[38;5;21mvisit\u001B[39m(\u001B[38;5;28mself\u001B[39m, tree):\n\u001B[0;32m---> 34\u001B[0m     \u001B[38;5;28;01mreturn\u001B[39;00m \u001B[43mtree\u001B[49m\u001B[38;5;241;43m.\u001B[39;49m\u001B[43maccept\u001B[49m\u001B[43m(\u001B[49m\u001B[38;5;28;43mself\u001B[39;49m\u001B[43m)\u001B[49m\n",
      "File \u001B[0;32m~/etc/miniconda3/envs/samgeo/lib/python3.10/site-packages/omegaconf/grammar/gen/OmegaConfGrammarParser.py:1041\u001B[0m, in \u001B[0;36mOmegaConfGrammarParser.InterpolationResolverContext.accept\u001B[0;34m(self, visitor)\u001B[0m\n\u001B[1;32m   1039\u001B[0m \u001B[38;5;28;01mdef\u001B[39;00m \u001B[38;5;21maccept\u001B[39m(\u001B[38;5;28mself\u001B[39m, visitor:ParseTreeVisitor):\n\u001B[1;32m   1040\u001B[0m     \u001B[38;5;28;01mif\u001B[39;00m \u001B[38;5;28mhasattr\u001B[39m( visitor, \u001B[38;5;124m\"\u001B[39m\u001B[38;5;124mvisitInterpolationResolver\u001B[39m\u001B[38;5;124m\"\u001B[39m ):\n\u001B[0;32m-> 1041\u001B[0m         \u001B[38;5;28;01mreturn\u001B[39;00m \u001B[43mvisitor\u001B[49m\u001B[38;5;241;43m.\u001B[39;49m\u001B[43mvisitInterpolationResolver\u001B[49m\u001B[43m(\u001B[49m\u001B[38;5;28;43mself\u001B[39;49m\u001B[43m)\u001B[49m\n\u001B[1;32m   1042\u001B[0m     \u001B[38;5;28;01melse\u001B[39;00m:\n\u001B[1;32m   1043\u001B[0m         \u001B[38;5;28;01mreturn\u001B[39;00m visitor\u001B[38;5;241m.\u001B[39mvisitChildren(\u001B[38;5;28mself\u001B[39m)\n",
      "File \u001B[0;32m~/etc/miniconda3/envs/samgeo/lib/python3.10/site-packages/omegaconf/grammar_visitor.py:179\u001B[0m, in \u001B[0;36mGrammarVisitor.visitInterpolationResolver\u001B[0;34m(self, ctx)\u001B[0m\n\u001B[1;32m    176\u001B[0m         args\u001B[38;5;241m.\u001B[39mappend(val)\n\u001B[1;32m    177\u001B[0m         args_str\u001B[38;5;241m.\u001B[39mappend(txt)\n\u001B[0;32m--> 179\u001B[0m \u001B[38;5;28;01mreturn\u001B[39;00m \u001B[38;5;28;43mself\u001B[39;49m\u001B[38;5;241;43m.\u001B[39;49m\u001B[43mresolver_interpolation_callback\u001B[49m\u001B[43m(\u001B[49m\n\u001B[1;32m    180\u001B[0m \u001B[43m    \u001B[49m\u001B[43mname\u001B[49m\u001B[38;5;241;43m=\u001B[39;49m\u001B[43mresolver_name\u001B[49m\u001B[43m,\u001B[49m\n\u001B[1;32m    181\u001B[0m \u001B[43m    \u001B[49m\u001B[43margs\u001B[49m\u001B[38;5;241;43m=\u001B[39;49m\u001B[38;5;28;43mtuple\u001B[39;49m\u001B[43m(\u001B[49m\u001B[43margs\u001B[49m\u001B[43m)\u001B[49m\u001B[43m,\u001B[49m\n\u001B[1;32m    182\u001B[0m \u001B[43m    \u001B[49m\u001B[43margs_str\u001B[49m\u001B[38;5;241;43m=\u001B[39;49m\u001B[38;5;28;43mtuple\u001B[39;49m\u001B[43m(\u001B[49m\u001B[43margs_str\u001B[49m\u001B[43m)\u001B[49m\u001B[43m,\u001B[49m\n\u001B[1;32m    183\u001B[0m \u001B[43m\u001B[49m\u001B[43m)\u001B[49m\n",
      "File \u001B[0;32m~/etc/miniconda3/envs/samgeo/lib/python3.10/site-packages/omegaconf/base.py:750\u001B[0m, in \u001B[0;36mContainer.resolve_parse_tree.<locals>.resolver_interpolation_callback\u001B[0;34m(name, args, args_str)\u001B[0m\n\u001B[1;32m    747\u001B[0m \u001B[38;5;28;01mdef\u001B[39;00m \u001B[38;5;21mresolver_interpolation_callback\u001B[39m(\n\u001B[1;32m    748\u001B[0m     name: \u001B[38;5;28mstr\u001B[39m, args: Tuple[Any, \u001B[38;5;241m.\u001B[39m\u001B[38;5;241m.\u001B[39m\u001B[38;5;241m.\u001B[39m], args_str: Tuple[\u001B[38;5;28mstr\u001B[39m, \u001B[38;5;241m.\u001B[39m\u001B[38;5;241m.\u001B[39m\u001B[38;5;241m.\u001B[39m]\n\u001B[1;32m    749\u001B[0m ) \u001B[38;5;241m-\u001B[39m\u001B[38;5;241m>\u001B[39m Any:\n\u001B[0;32m--> 750\u001B[0m     \u001B[38;5;28;01mreturn\u001B[39;00m \u001B[38;5;28;43mself\u001B[39;49m\u001B[38;5;241;43m.\u001B[39;49m\u001B[43m_evaluate_custom_resolver\u001B[49m\u001B[43m(\u001B[49m\n\u001B[1;32m    751\u001B[0m \u001B[43m        \u001B[49m\u001B[43mkey\u001B[49m\u001B[38;5;241;43m=\u001B[39;49m\u001B[43mkey\u001B[49m\u001B[43m,\u001B[49m\n\u001B[1;32m    752\u001B[0m \u001B[43m        \u001B[49m\u001B[43mnode\u001B[49m\u001B[38;5;241;43m=\u001B[39;49m\u001B[43mnode\u001B[49m\u001B[43m,\u001B[49m\n\u001B[1;32m    753\u001B[0m \u001B[43m        \u001B[49m\u001B[43minter_type\u001B[49m\u001B[38;5;241;43m=\u001B[39;49m\u001B[43mname\u001B[49m\u001B[43m,\u001B[49m\n\u001B[1;32m    754\u001B[0m \u001B[43m        \u001B[49m\u001B[43minter_args\u001B[49m\u001B[38;5;241;43m=\u001B[39;49m\u001B[43margs\u001B[49m\u001B[43m,\u001B[49m\n\u001B[1;32m    755\u001B[0m \u001B[43m        \u001B[49m\u001B[43minter_args_str\u001B[49m\u001B[38;5;241;43m=\u001B[39;49m\u001B[43margs_str\u001B[49m\u001B[43m,\u001B[49m\n\u001B[1;32m    756\u001B[0m \u001B[43m    \u001B[49m\u001B[43m)\u001B[49m\n",
      "File \u001B[0;32m~/etc/miniconda3/envs/samgeo/lib/python3.10/site-packages/omegaconf/base.py:694\u001B[0m, in \u001B[0;36mContainer._evaluate_custom_resolver\u001B[0;34m(self, key, node, inter_type, inter_args, inter_args_str)\u001B[0m\n\u001B[1;32m    692\u001B[0m \u001B[38;5;28;01mif\u001B[39;00m resolver \u001B[38;5;129;01mis\u001B[39;00m \u001B[38;5;129;01mnot\u001B[39;00m \u001B[38;5;28;01mNone\u001B[39;00m:\n\u001B[1;32m    693\u001B[0m     root_node \u001B[38;5;241m=\u001B[39m \u001B[38;5;28mself\u001B[39m\u001B[38;5;241m.\u001B[39m_get_root()\n\u001B[0;32m--> 694\u001B[0m     \u001B[38;5;28;01mreturn\u001B[39;00m \u001B[43mresolver\u001B[49m\u001B[43m(\u001B[49m\n\u001B[1;32m    695\u001B[0m \u001B[43m        \u001B[49m\u001B[43mroot_node\u001B[49m\u001B[43m,\u001B[49m\n\u001B[1;32m    696\u001B[0m \u001B[43m        \u001B[49m\u001B[38;5;28;43mself\u001B[39;49m\u001B[43m,\u001B[49m\n\u001B[1;32m    697\u001B[0m \u001B[43m        \u001B[49m\u001B[43mnode\u001B[49m\u001B[43m,\u001B[49m\n\u001B[1;32m    698\u001B[0m \u001B[43m        \u001B[49m\u001B[43minter_args\u001B[49m\u001B[43m,\u001B[49m\n\u001B[1;32m    699\u001B[0m \u001B[43m        \u001B[49m\u001B[43minter_args_str\u001B[49m\u001B[43m,\u001B[49m\n\u001B[1;32m    700\u001B[0m \u001B[43m    \u001B[49m\u001B[43m)\u001B[49m\n\u001B[1;32m    701\u001B[0m \u001B[38;5;28;01melse\u001B[39;00m:\n\u001B[1;32m    702\u001B[0m     \u001B[38;5;28;01mraise\u001B[39;00m UnsupportedInterpolationType(\n\u001B[1;32m    703\u001B[0m         \u001B[38;5;124mf\u001B[39m\u001B[38;5;124m\"\u001B[39m\u001B[38;5;124mUnsupported interpolation type \u001B[39m\u001B[38;5;132;01m{\u001B[39;00minter_type\u001B[38;5;132;01m}\u001B[39;00m\u001B[38;5;124m\"\u001B[39m\n\u001B[1;32m    704\u001B[0m     )\n",
      "File \u001B[0;32m~/etc/miniconda3/envs/samgeo/lib/python3.10/site-packages/omegaconf/omegaconf.py:445\u001B[0m, in \u001B[0;36mOmegaConf.register_new_resolver.<locals>.resolver_wrapper\u001B[0;34m(config, parent, node, args, args_str)\u001B[0m\n\u001B[1;32m    442\u001B[0m \u001B[38;5;28;01mif\u001B[39;00m pass_root:\n\u001B[1;32m    443\u001B[0m     kwargs[\u001B[38;5;124m\"\u001B[39m\u001B[38;5;124m_root_\u001B[39m\u001B[38;5;124m\"\u001B[39m] \u001B[38;5;241m=\u001B[39m config\n\u001B[0;32m--> 445\u001B[0m ret \u001B[38;5;241m=\u001B[39m \u001B[43mresolver\u001B[49m\u001B[43m(\u001B[49m\u001B[38;5;241;43m*\u001B[39;49m\u001B[43margs\u001B[49m\u001B[43m,\u001B[49m\u001B[43m \u001B[49m\u001B[38;5;241;43m*\u001B[39;49m\u001B[38;5;241;43m*\u001B[39;49m\u001B[43mkwargs\u001B[49m\u001B[43m)\u001B[49m\n\u001B[1;32m    447\u001B[0m \u001B[38;5;28;01mif\u001B[39;00m use_cache:\n\u001B[1;32m    448\u001B[0m     cache[args_str] \u001B[38;5;241m=\u001B[39m ret\n",
      "File \u001B[0;32m~/etc/miniconda3/envs/samgeo/lib/python3.10/site-packages/hydra/core/utils.py:220\u001B[0m, in \u001B[0;36msetup_globals.<locals>.<lambda>\u001B[0;34m(path)\u001B[0m\n\u001B[1;32m    210\u001B[0m \u001B[38;5;28;01mdef\u001B[39;00m \u001B[38;5;21msetup_globals\u001B[39m() \u001B[38;5;241m-\u001B[39m\u001B[38;5;241m>\u001B[39m \u001B[38;5;28;01mNone\u001B[39;00m:\n\u001B[1;32m    211\u001B[0m     \u001B[38;5;66;03m# please add documentation when you add a new resolver\u001B[39;00m\n\u001B[1;32m    212\u001B[0m     OmegaConf\u001B[38;5;241m.\u001B[39mregister_new_resolver(\n\u001B[1;32m    213\u001B[0m         \u001B[38;5;124m\"\u001B[39m\u001B[38;5;124mnow\u001B[39m\u001B[38;5;124m\"\u001B[39m,\n\u001B[1;32m    214\u001B[0m         \u001B[38;5;28;01mlambda\u001B[39;00m pattern: datetime\u001B[38;5;241m.\u001B[39mnow()\u001B[38;5;241m.\u001B[39mstrftime(pattern),\n\u001B[1;32m    215\u001B[0m         use_cache\u001B[38;5;241m=\u001B[39m\u001B[38;5;28;01mTrue\u001B[39;00m,\n\u001B[1;32m    216\u001B[0m         replace\u001B[38;5;241m=\u001B[39m\u001B[38;5;28;01mTrue\u001B[39;00m,\n\u001B[1;32m    217\u001B[0m     )\n\u001B[1;32m    218\u001B[0m     OmegaConf\u001B[38;5;241m.\u001B[39mregister_new_resolver(\n\u001B[1;32m    219\u001B[0m         \u001B[38;5;124m\"\u001B[39m\u001B[38;5;124mhydra\u001B[39m\u001B[38;5;124m\"\u001B[39m,\n\u001B[0;32m--> 220\u001B[0m         \u001B[38;5;28;01mlambda\u001B[39;00m path: OmegaConf\u001B[38;5;241m.\u001B[39mselect(cast(DictConfig, \u001B[43mHydraConfig\u001B[49m\u001B[38;5;241;43m.\u001B[39;49m\u001B[43mget\u001B[49m\u001B[43m(\u001B[49m\u001B[43m)\u001B[49m), path),\n\u001B[1;32m    221\u001B[0m         replace\u001B[38;5;241m=\u001B[39m\u001B[38;5;28;01mTrue\u001B[39;00m,\n\u001B[1;32m    222\u001B[0m     )\n\u001B[1;32m    224\u001B[0m     vi \u001B[38;5;241m=\u001B[39m sys\u001B[38;5;241m.\u001B[39mversion_info\n\u001B[1;32m    225\u001B[0m     version_dict \u001B[38;5;241m=\u001B[39m {\n\u001B[1;32m    226\u001B[0m         \u001B[38;5;124m\"\u001B[39m\u001B[38;5;124mmajor\u001B[39m\u001B[38;5;124m\"\u001B[39m: \u001B[38;5;124mf\u001B[39m\u001B[38;5;124m\"\u001B[39m\u001B[38;5;132;01m{\u001B[39;00mvi[\u001B[38;5;241m0\u001B[39m]\u001B[38;5;132;01m}\u001B[39;00m\u001B[38;5;124m\"\u001B[39m,\n\u001B[1;32m    227\u001B[0m         \u001B[38;5;124m\"\u001B[39m\u001B[38;5;124mminor\u001B[39m\u001B[38;5;124m\"\u001B[39m: \u001B[38;5;124mf\u001B[39m\u001B[38;5;124m\"\u001B[39m\u001B[38;5;132;01m{\u001B[39;00mvi[\u001B[38;5;241m0\u001B[39m]\u001B[38;5;132;01m}\u001B[39;00m\u001B[38;5;124m.\u001B[39m\u001B[38;5;132;01m{\u001B[39;00mvi[\u001B[38;5;241m1\u001B[39m]\u001B[38;5;132;01m}\u001B[39;00m\u001B[38;5;124m\"\u001B[39m,\n\u001B[1;32m    228\u001B[0m         \u001B[38;5;124m\"\u001B[39m\u001B[38;5;124mmicro\u001B[39m\u001B[38;5;124m\"\u001B[39m: \u001B[38;5;124mf\u001B[39m\u001B[38;5;124m\"\u001B[39m\u001B[38;5;132;01m{\u001B[39;00mvi[\u001B[38;5;241m0\u001B[39m]\u001B[38;5;132;01m}\u001B[39;00m\u001B[38;5;124m.\u001B[39m\u001B[38;5;132;01m{\u001B[39;00mvi[\u001B[38;5;241m1\u001B[39m]\u001B[38;5;132;01m}\u001B[39;00m\u001B[38;5;124m.\u001B[39m\u001B[38;5;132;01m{\u001B[39;00mvi[\u001B[38;5;241m2\u001B[39m]\u001B[38;5;132;01m}\u001B[39;00m\u001B[38;5;124m\"\u001B[39m,\n\u001B[1;32m    229\u001B[0m     }\n",
      "File \u001B[0;32m~/etc/miniconda3/envs/samgeo/lib/python3.10/site-packages/hydra/core/hydra_config.py:31\u001B[0m, in \u001B[0;36mHydraConfig.get\u001B[0;34m()\u001B[0m\n\u001B[1;32m     29\u001B[0m instance \u001B[38;5;241m=\u001B[39m HydraConfig\u001B[38;5;241m.\u001B[39minstance()\n\u001B[1;32m     30\u001B[0m \u001B[38;5;28;01mif\u001B[39;00m instance\u001B[38;5;241m.\u001B[39mcfg \u001B[38;5;129;01mis\u001B[39;00m \u001B[38;5;28;01mNone\u001B[39;00m:\n\u001B[0;32m---> 31\u001B[0m     \u001B[38;5;28;01mraise\u001B[39;00m \u001B[38;5;167;01mValueError\u001B[39;00m(\u001B[38;5;124m\"\u001B[39m\u001B[38;5;124mHydraConfig was not set\u001B[39m\u001B[38;5;124m\"\u001B[39m)\n\u001B[1;32m     32\u001B[0m \u001B[38;5;28;01mreturn\u001B[39;00m instance\u001B[38;5;241m.\u001B[39mcfg\u001B[38;5;241m.\u001B[39mhydra\n",
      "\u001B[0;31mInterpolationResolutionError\u001B[0m: ValueError raised while resolving interpolation: HydraConfig was not set\n    full_key: paths.work_dir\n    object_type=dict"
     ]
    }
   ],
   "execution_count": 44
  },
  {
   "metadata": {
    "ExecuteTime": {
     "end_time": "2025-08-05T00:25:21.014774Z",
     "start_time": "2025-08-05T00:25:20.999912Z"
    }
   },
   "cell_type": "code",
   "source": "cfg.paths",
   "id": "b00018f5e54b7219",
   "outputs": [
    {
     "data": {
      "text/plain": [
       "{'root_dir': '${oc.env:PROJECT_ROOT}', 'data_dir': '${local.data_dir}', 'log_dir': '${paths.output_dir}', 'output_dir': '${local.prediction_output_dir}/${name}', 'work_dir': '${hydra:runtime.cwd}'}"
      ]
     },
     "execution_count": 39,
     "metadata": {},
     "output_type": "execute_result"
    }
   ],
   "execution_count": 39
  },
  {
   "metadata": {
    "ExecuteTime": {
     "end_time": "2025-08-05T00:16:59.112410Z",
     "start_time": "2025-08-05T00:16:59.081145Z"
    }
   },
   "cell_type": "code",
   "outputs": [
    {
     "ename": "AttributeError",
     "evalue": "'collections.OrderedDict' object has no attribute 'state_dict'",
     "output_type": "error",
     "traceback": [
      "\u001B[0;31m---------------------------------------------------------------------------\u001B[0m",
      "\u001B[0;31mAttributeError\u001B[0m                            Traceback (most recent call last)",
      "Cell \u001B[0;32mIn[22], line 1\u001B[0m\n\u001B[0;32m----> 1\u001B[0m \u001B[43msave_model\u001B[49m\u001B[43m(\u001B[49m\u001B[43mstate_dict\u001B[49m\u001B[43m,\u001B[49m\u001B[43m \u001B[49m\u001B[38;5;124;43m\"\u001B[39;49m\u001B[38;5;124;43m/home/yl241/models/Multi-Annotators/clipseg_debris_weight.safetensors\u001B[39;49m\u001B[38;5;124;43m\"\u001B[39;49m\u001B[43m)\u001B[49m\n\u001B[1;32m      2\u001B[0m \u001B[38;5;28mprint\u001B[39m(\u001B[38;5;124m\"\u001B[39m\u001B[38;5;124mConverted to model.safetensors\u001B[39m\u001B[38;5;124m\"\u001B[39m)\n",
      "File \u001B[0;32m~/etc/miniconda3/envs/samgeo/lib/python3.10/site-packages/safetensors/torch.py:154\u001B[0m, in \u001B[0;36msave_model\u001B[0;34m(model, filename, metadata, force_contiguous)\u001B[0m\n\u001B[1;32m    130\u001B[0m \u001B[38;5;28;01mdef\u001B[39;00m \u001B[38;5;21msave_model\u001B[39m(\n\u001B[1;32m    131\u001B[0m     model: torch\u001B[38;5;241m.\u001B[39mnn\u001B[38;5;241m.\u001B[39mModule, filename: \u001B[38;5;28mstr\u001B[39m, metadata: Optional[Dict[\u001B[38;5;28mstr\u001B[39m, \u001B[38;5;28mstr\u001B[39m]] \u001B[38;5;241m=\u001B[39m \u001B[38;5;28;01mNone\u001B[39;00m, force_contiguous: \u001B[38;5;28mbool\u001B[39m \u001B[38;5;241m=\u001B[39m \u001B[38;5;28;01mTrue\u001B[39;00m\n\u001B[1;32m    132\u001B[0m ):\n\u001B[1;32m    133\u001B[0m \u001B[38;5;250m    \u001B[39m\u001B[38;5;124;03m\"\"\"\u001B[39;00m\n\u001B[1;32m    134\u001B[0m \u001B[38;5;124;03m    Saves a given torch model to specified filename.\u001B[39;00m\n\u001B[1;32m    135\u001B[0m \u001B[38;5;124;03m    This method exists specifically to avoid tensor sharing issues which are\u001B[39;00m\n\u001B[0;32m   (...)\u001B[0m\n\u001B[1;32m    152\u001B[0m \u001B[38;5;124;03m            was chosen specifically for that reason.\u001B[39;00m\n\u001B[1;32m    153\u001B[0m \u001B[38;5;124;03m    \"\"\"\u001B[39;00m\n\u001B[0;32m--> 154\u001B[0m     state_dict \u001B[38;5;241m=\u001B[39m \u001B[43mmodel\u001B[49m\u001B[38;5;241;43m.\u001B[39;49m\u001B[43mstate_dict\u001B[49m()\n\u001B[1;32m    155\u001B[0m     to_removes \u001B[38;5;241m=\u001B[39m _remove_duplicate_names(state_dict)\n\u001B[1;32m    157\u001B[0m     \u001B[38;5;28;01mfor\u001B[39;00m kept_name, to_remove_group \u001B[38;5;129;01min\u001B[39;00m to_removes\u001B[38;5;241m.\u001B[39mitems():\n",
      "\u001B[0;31mAttributeError\u001B[0m: 'collections.OrderedDict' object has no attribute 'state_dict'"
     ]
    }
   ],
   "execution_count": 22,
   "source": [
    "save_model(state_dict, \"/home/yl241/models/Multi-Annotators/clipseg_debris_weight.safetensors\")\n",
    "print(\"Converted to model.safetensors\")"
   ],
   "id": "aef0141eb19469ab"
  }
 ],
 "metadata": {
  "kernelspec": {
   "display_name": "Python 3",
   "language": "python",
   "name": "python3"
  },
  "language_info": {
   "codemirror_mode": {
    "name": "ipython",
    "version": 2
   },
   "file_extension": ".py",
   "mimetype": "text/x-python",
   "name": "python",
   "nbconvert_exporter": "python",
   "pygments_lexer": "ipython2",
   "version": "2.7.6"
  }
 },
 "nbformat": 4,
 "nbformat_minor": 5
}
